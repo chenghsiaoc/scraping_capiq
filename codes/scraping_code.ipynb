{
 "cells": [
  {
   "cell_type": "markdown",
   "id": "cb1f0115",
   "metadata": {},
   "source": [
    "# 1. Import packages"
   ]
  },
  {
   "cell_type": "code",
   "execution_count": 1,
   "id": "8ee186f3",
   "metadata": {},
   "outputs": [],
   "source": [
    "import pandas as pd\n",
    "import time\n",
    "import login_info\n",
    "from selenium import webdriver\n",
    "\n",
    "pd.set_option(\"display.max_rows\", 6000)"
   ]
  },
  {
   "cell_type": "markdown",
   "id": "ce13a190",
   "metadata": {},
   "source": [
    "# 2. Impoert company_ids"
   ]
  },
  {
   "cell_type": "code",
   "execution_count": 2,
   "id": "9dd98894",
   "metadata": {},
   "outputs": [],
   "source": [
    "csv_company_ids = \"../data/company_ids.csv\"\n",
    "company_ids_df = pd.read_csv(csv_company_ids)\n",
    "company_ids = list(company_ids_df[\"company_id\"])"
   ]
  },
  {
   "cell_type": "markdown",
   "id": "7d0ef499",
   "metadata": {},
   "source": [
    "# 3. S&P500 Capital IQ url"
   ]
  },
  {
   "cell_type": "code",
   "execution_count": 3,
   "id": "129a7a89",
   "metadata": {},
   "outputs": [],
   "source": [
    "capital_iq_url = \"https://www.capitaliq.com/CIQDotNet/my/dashboard.aspx\"\n",
    "ownership_history_url_pre = \"https://www.capitaliq.com/CIQDotNet/Ownership/CompanyHistory.aspx?companyId=\" \n",
    "\n",
    "ownership_history_url_post = \"&stateKey=c7b98ab32a4943de86251385e01283cf\"\n",
    "ownership_history_url_post_inst = \"&stateKey=6d895bc226c14a54a95774bf09ee74e3\"\n",
    "ownership_history_url_post_in = \"&stateKey=f86cd43d6c874b5ca851bd801fbec1db\"\n",
    "\n",
    "ownership_history_urls = []"
   ]
  },
  {
   "cell_type": "markdown",
   "id": "301953a9",
   "metadata": {},
   "source": [
    "# 4. Info for authentication"
   ]
  },
  {
   "cell_type": "code",
   "execution_count": 4,
   "id": "8142505f",
   "metadata": {},
   "outputs": [],
   "source": [
    "username = login_info.usrname\n",
    "password = login_info.pwd"
   ]
  },
  {
   "cell_type": "markdown",
   "id": "303f8620",
   "metadata": {},
   "source": [
    "# 5. Functions"
   ]
  },
  {
   "cell_type": "code",
   "execution_count": 5,
   "id": "aca6bde4",
   "metadata": {},
   "outputs": [],
   "source": [
    "def generate_owner_history_urls(company_ids: list, ownership_history_url_pre: str, ownership_history_url_post: str):\n",
    "    return [ownership_history_url_pre + str(company_id) + ownership_history_url_post for company_id in company_ids]\n",
    "\n",
    "def generate_owner_history_inst_urls(company_ids: list, ownership_history_url_pre: str, ownership_history_url_post_inst: str):\n",
    "    return [ownership_history_url_pre + str(company_id) + ownership_history_url_post_inst for company_id in company_ids]\n",
    "    \n",
    "def generate_partial_owner_history_urls(partial_company_ids: list, ownership_history_url_pre: str, ownership_history_url_post: str):\n",
    "    return [ownership_history_url_pre + str(partial_company_id) + ownership_history_url_post for partial_company_id in partial_company_ids]\n",
    "\n",
    "def download_pub_owner_history(ownership_history_url: str):\n",
    "    # using pre-generated companies' public ownership history url to load the page of a company\n",
    "    driver.get(ownership_history_url)\n",
    "    time.sleep(1)\n",
    "    \n",
    "    try:\n",
    "        # select and click extend button to show all history data and wait 20 seconds for page loading \n",
    "        extend_toward_left_btn = driver.find_element_by_id(\"hNavHistory_myDisplaySection_leftleftNavButton\")\n",
    "        extend_toward_left_btn.click()\n",
    "        time.sleep(10)\n",
    "\n",
    "        # select and click download excel_report button\n",
    "        excel_report = driver.find_element_by_id(\"excelReport\")\n",
    "        excel_report.click()\n",
    "    \n",
    "    except:\n",
    "        excel_report = driver.find_element_by_id(\"excelReport\")\n",
    "        excel_report.click()\n",
    "    "
   ]
  },
  {
   "cell_type": "markdown",
   "id": "ea43fe89",
   "metadata": {},
   "source": [
    "# 6. Log in "
   ]
  },
  {
   "cell_type": "code",
   "execution_count": 6,
   "id": "5398d68a",
   "metadata": {},
   "outputs": [],
   "source": [
    "# Initiate Chrome driver\n",
    "driver = webdriver.Chrome(\"../codes/chromedriver\")\n",
    "driver.get(capital_iq_url)\n",
    "time.sleep(3)\n",
    "\n",
    "# Accept cookies notice\n",
    "accept_all = driver.find_element_by_id(\"onetrust-accept-btn-handler\")\n",
    "accept_all.click()\n",
    "time.sleep(3)\n",
    "\n",
    "# login\n",
    "uname = driver.find_element_by_id(\"username\")\n",
    "uname.send_keys(username)\n",
    "pwd = driver.find_element_by_id(\"password\")\n",
    "pwd.send_keys(password)\n",
    "login_btn = driver.find_element_by_id(\"myLoginButton\")\n",
    "login_btn.click()\n",
    "\n",
    "time.sleep(3)"
   ]
  },
  {
   "cell_type": "code",
   "execution_count": 306,
   "id": "97215356",
   "metadata": {},
   "outputs": [],
   "source": [
    "# login\n",
    "uname = driver.find_element_by_id(\"username\")\n",
    "uname.send_keys(username)\n",
    "pwd = driver.find_element_by_id(\"password\")\n",
    "pwd.send_keys(password)\n",
    "login_btn = driver.find_element_by_id(\"myLoginButton\")\n",
    "login_btn.click()"
   ]
  },
  {
   "cell_type": "markdown",
   "id": "65ea9d31",
   "metadata": {},
   "source": [
    "# 7. Get Excel report"
   ]
  },
  {
   "cell_type": "code",
   "execution_count": 44,
   "id": "c2edec4d",
   "metadata": {},
   "outputs": [],
   "source": [
    "# generate urls to get to the history page\n",
    "owner_history_urls = generate_owner_history_urls(company_ids, ownership_history_url_pre, ownership_history_url_post)"
   ]
  },
  {
   "cell_type": "markdown",
   "id": "06e5ab08",
   "metadata": {},
   "source": [
    "### when the downloading process stop for some reason use code below to generate a partial list of urls "
   ]
  },
  {
   "cell_type": "code",
   "execution_count": 285,
   "id": "85dbe69b",
   "metadata": {},
   "outputs": [],
   "source": [
    "# generate truncated list of urls and rerun the code when code stop unexpectedly\n",
    "owner_history_urls = generate_partial_owner_history_urls(partial_company_ids, ownership_history_url_pre, ownership_history_url_post)"
   ]
  },
  {
   "cell_type": "code",
   "execution_count": 304,
   "id": "980da961",
   "metadata": {
    "scrolled": true
   },
   "outputs": [
    {
     "ename": "NoSuchElementException",
     "evalue": "Message: no such element: Unable to locate element: {\"method\":\"css selector\",\"selector\":\"[id=\"excelReport\"]\"}\n  (Session info: chrome=94.0.4606.81)\n",
     "output_type": "error",
     "traceback": [
      "\u001b[1;31m---------------------------------------------------------------------------\u001b[0m",
      "\u001b[1;31mNoSuchElementException\u001b[0m                    Traceback (most recent call last)",
      "\u001b[1;32m~\\AppData\\Local\\Temp/ipykernel_2516/3112531100.py\u001b[0m in \u001b[0;36mdownload_pub_owner_history\u001b[1;34m(ownership_history_url)\u001b[0m\n\u001b[0;32m     23\u001b[0m         \u001b[1;31m# select and click extend button to show all history data and wait 20 seconds for page loading\u001b[0m\u001b[1;33m\u001b[0m\u001b[1;33m\u001b[0m\u001b[0m\n\u001b[1;32m---> 24\u001b[1;33m         \u001b[0mextend_toward_left_btn\u001b[0m \u001b[1;33m=\u001b[0m \u001b[0mdriver\u001b[0m\u001b[1;33m.\u001b[0m\u001b[0mfind_element_by_id\u001b[0m\u001b[1;33m(\u001b[0m\u001b[1;34m\"hNavHistory_myDisplaySection_leftleftNavButton\"\u001b[0m\u001b[1;33m)\u001b[0m\u001b[1;33m\u001b[0m\u001b[1;33m\u001b[0m\u001b[0m\n\u001b[0m\u001b[0;32m     25\u001b[0m         \u001b[0mextend_toward_left_btn\u001b[0m\u001b[1;33m.\u001b[0m\u001b[0mclick\u001b[0m\u001b[1;33m(\u001b[0m\u001b[1;33m)\u001b[0m\u001b[1;33m\u001b[0m\u001b[1;33m\u001b[0m\u001b[0m\n",
      "\u001b[1;32m~\\Desktop\\data_projects\\capitalIQ_ccc_terry_10082021\\venv\\lib\\site-packages\\selenium\\webdriver\\remote\\webdriver.py\u001b[0m in \u001b[0;36mfind_element_by_id\u001b[1;34m(self, id_)\u001b[0m\n\u001b[0;32m    359\u001b[0m         \"\"\"\n\u001b[1;32m--> 360\u001b[1;33m         \u001b[1;32mreturn\u001b[0m \u001b[0mself\u001b[0m\u001b[1;33m.\u001b[0m\u001b[0mfind_element\u001b[0m\u001b[1;33m(\u001b[0m\u001b[0mby\u001b[0m\u001b[1;33m=\u001b[0m\u001b[0mBy\u001b[0m\u001b[1;33m.\u001b[0m\u001b[0mID\u001b[0m\u001b[1;33m,\u001b[0m \u001b[0mvalue\u001b[0m\u001b[1;33m=\u001b[0m\u001b[0mid_\u001b[0m\u001b[1;33m)\u001b[0m\u001b[1;33m\u001b[0m\u001b[1;33m\u001b[0m\u001b[0m\n\u001b[0m\u001b[0;32m    361\u001b[0m \u001b[1;33m\u001b[0m\u001b[0m\n",
      "\u001b[1;32m~\\Desktop\\data_projects\\capitalIQ_ccc_terry_10082021\\venv\\lib\\site-packages\\selenium\\webdriver\\remote\\webdriver.py\u001b[0m in \u001b[0;36mfind_element\u001b[1;34m(self, by, value)\u001b[0m\n\u001b[0;32m    975\u001b[0m                 \u001b[0mvalue\u001b[0m \u001b[1;33m=\u001b[0m \u001b[1;34m'[name=\"%s\"]'\u001b[0m \u001b[1;33m%\u001b[0m \u001b[0mvalue\u001b[0m\u001b[1;33m\u001b[0m\u001b[1;33m\u001b[0m\u001b[0m\n\u001b[1;32m--> 976\u001b[1;33m         return self.execute(Command.FIND_ELEMENT, {\n\u001b[0m\u001b[0;32m    977\u001b[0m             \u001b[1;34m'using'\u001b[0m\u001b[1;33m:\u001b[0m \u001b[0mby\u001b[0m\u001b[1;33m,\u001b[0m\u001b[1;33m\u001b[0m\u001b[1;33m\u001b[0m\u001b[0m\n",
      "\u001b[1;32m~\\Desktop\\data_projects\\capitalIQ_ccc_terry_10082021\\venv\\lib\\site-packages\\selenium\\webdriver\\remote\\webdriver.py\u001b[0m in \u001b[0;36mexecute\u001b[1;34m(self, driver_command, params)\u001b[0m\n\u001b[0;32m    320\u001b[0m         \u001b[1;32mif\u001b[0m \u001b[0mresponse\u001b[0m\u001b[1;33m:\u001b[0m\u001b[1;33m\u001b[0m\u001b[1;33m\u001b[0m\u001b[0m\n\u001b[1;32m--> 321\u001b[1;33m             \u001b[0mself\u001b[0m\u001b[1;33m.\u001b[0m\u001b[0merror_handler\u001b[0m\u001b[1;33m.\u001b[0m\u001b[0mcheck_response\u001b[0m\u001b[1;33m(\u001b[0m\u001b[0mresponse\u001b[0m\u001b[1;33m)\u001b[0m\u001b[1;33m\u001b[0m\u001b[1;33m\u001b[0m\u001b[0m\n\u001b[0m\u001b[0;32m    322\u001b[0m             response['value'] = self._unwrap_value(\n",
      "\u001b[1;32m~\\Desktop\\data_projects\\capitalIQ_ccc_terry_10082021\\venv\\lib\\site-packages\\selenium\\webdriver\\remote\\errorhandler.py\u001b[0m in \u001b[0;36mcheck_response\u001b[1;34m(self, response)\u001b[0m\n\u001b[0;32m    241\u001b[0m             \u001b[1;32mraise\u001b[0m \u001b[0mexception_class\u001b[0m\u001b[1;33m(\u001b[0m\u001b[0mmessage\u001b[0m\u001b[1;33m,\u001b[0m \u001b[0mscreen\u001b[0m\u001b[1;33m,\u001b[0m \u001b[0mstacktrace\u001b[0m\u001b[1;33m,\u001b[0m \u001b[0malert_text\u001b[0m\u001b[1;33m)\u001b[0m\u001b[1;33m\u001b[0m\u001b[1;33m\u001b[0m\u001b[0m\n\u001b[1;32m--> 242\u001b[1;33m         \u001b[1;32mraise\u001b[0m \u001b[0mexception_class\u001b[0m\u001b[1;33m(\u001b[0m\u001b[0mmessage\u001b[0m\u001b[1;33m,\u001b[0m \u001b[0mscreen\u001b[0m\u001b[1;33m,\u001b[0m \u001b[0mstacktrace\u001b[0m\u001b[1;33m)\u001b[0m\u001b[1;33m\u001b[0m\u001b[1;33m\u001b[0m\u001b[0m\n\u001b[0m\u001b[0;32m    243\u001b[0m \u001b[1;33m\u001b[0m\u001b[0m\n",
      "\u001b[1;31mNoSuchElementException\u001b[0m: Message: no such element: Unable to locate element: {\"method\":\"css selector\",\"selector\":\"[id=\"hNavHistory_myDisplaySection_leftleftNavButton\"]\"}\n  (Session info: chrome=94.0.4606.81)\n",
      "\nDuring handling of the above exception, another exception occurred:\n",
      "\u001b[1;31mNoSuchElementException\u001b[0m                    Traceback (most recent call last)",
      "\u001b[1;32m~\\AppData\\Local\\Temp/ipykernel_2516/2752555960.py\u001b[0m in \u001b[0;36m<module>\u001b[1;34m\u001b[0m\n\u001b[0;32m      4\u001b[0m     \u001b[1;32melse\u001b[0m\u001b[1;33m:\u001b[0m\u001b[1;33m\u001b[0m\u001b[1;33m\u001b[0m\u001b[0m\n\u001b[0;32m      5\u001b[0m         \u001b[0mtime\u001b[0m\u001b[1;33m.\u001b[0m\u001b[0msleep\u001b[0m\u001b[1;33m(\u001b[0m\u001b[1;36m15\u001b[0m\u001b[1;33m)\u001b[0m\u001b[1;33m\u001b[0m\u001b[1;33m\u001b[0m\u001b[0m\n\u001b[1;32m----> 6\u001b[1;33m         \u001b[0mdownload_pub_owner_history\u001b[0m\u001b[1;33m(\u001b[0m\u001b[0mowner_history_url\u001b[0m\u001b[1;33m)\u001b[0m\u001b[1;33m\u001b[0m\u001b[1;33m\u001b[0m\u001b[0m\n\u001b[0m",
      "\u001b[1;32m~\\AppData\\Local\\Temp/ipykernel_2516/3112531100.py\u001b[0m in \u001b[0;36mdownload_pub_owner_history\u001b[1;34m(ownership_history_url)\u001b[0m\n\u001b[0;32m     31\u001b[0m \u001b[1;33m\u001b[0m\u001b[0m\n\u001b[0;32m     32\u001b[0m     \u001b[1;32mexcept\u001b[0m\u001b[1;33m:\u001b[0m\u001b[1;33m\u001b[0m\u001b[1;33m\u001b[0m\u001b[0m\n\u001b[1;32m---> 33\u001b[1;33m         \u001b[0mexcel_report\u001b[0m \u001b[1;33m=\u001b[0m \u001b[0mdriver\u001b[0m\u001b[1;33m.\u001b[0m\u001b[0mfind_element_by_id\u001b[0m\u001b[1;33m(\u001b[0m\u001b[1;34m\"excelReport\"\u001b[0m\u001b[1;33m)\u001b[0m\u001b[1;33m\u001b[0m\u001b[1;33m\u001b[0m\u001b[0m\n\u001b[0m\u001b[0;32m     34\u001b[0m         \u001b[0mexcel_report\u001b[0m\u001b[1;33m.\u001b[0m\u001b[0mclick\u001b[0m\u001b[1;33m(\u001b[0m\u001b[1;33m)\u001b[0m\u001b[1;33m\u001b[0m\u001b[1;33m\u001b[0m\u001b[0m\n\u001b[0;32m     35\u001b[0m \u001b[1;33m\u001b[0m\u001b[0m\n",
      "\u001b[1;32m~\\Desktop\\data_projects\\capitalIQ_ccc_terry_10082021\\venv\\lib\\site-packages\\selenium\\webdriver\\remote\\webdriver.py\u001b[0m in \u001b[0;36mfind_element_by_id\u001b[1;34m(self, id_)\u001b[0m\n\u001b[0;32m    358\u001b[0m             \u001b[0melement\u001b[0m \u001b[1;33m=\u001b[0m \u001b[0mdriver\u001b[0m\u001b[1;33m.\u001b[0m\u001b[0mfind_element_by_id\u001b[0m\u001b[1;33m(\u001b[0m\u001b[1;34m'foo'\u001b[0m\u001b[1;33m)\u001b[0m\u001b[1;33m\u001b[0m\u001b[1;33m\u001b[0m\u001b[0m\n\u001b[0;32m    359\u001b[0m         \"\"\"\n\u001b[1;32m--> 360\u001b[1;33m         \u001b[1;32mreturn\u001b[0m \u001b[0mself\u001b[0m\u001b[1;33m.\u001b[0m\u001b[0mfind_element\u001b[0m\u001b[1;33m(\u001b[0m\u001b[0mby\u001b[0m\u001b[1;33m=\u001b[0m\u001b[0mBy\u001b[0m\u001b[1;33m.\u001b[0m\u001b[0mID\u001b[0m\u001b[1;33m,\u001b[0m \u001b[0mvalue\u001b[0m\u001b[1;33m=\u001b[0m\u001b[0mid_\u001b[0m\u001b[1;33m)\u001b[0m\u001b[1;33m\u001b[0m\u001b[1;33m\u001b[0m\u001b[0m\n\u001b[0m\u001b[0;32m    361\u001b[0m \u001b[1;33m\u001b[0m\u001b[0m\n\u001b[0;32m    362\u001b[0m     \u001b[1;32mdef\u001b[0m \u001b[0mfind_elements_by_id\u001b[0m\u001b[1;33m(\u001b[0m\u001b[0mself\u001b[0m\u001b[1;33m,\u001b[0m \u001b[0mid_\u001b[0m\u001b[1;33m)\u001b[0m\u001b[1;33m:\u001b[0m\u001b[1;33m\u001b[0m\u001b[1;33m\u001b[0m\u001b[0m\n",
      "\u001b[1;32m~\\Desktop\\data_projects\\capitalIQ_ccc_terry_10082021\\venv\\lib\\site-packages\\selenium\\webdriver\\remote\\webdriver.py\u001b[0m in \u001b[0;36mfind_element\u001b[1;34m(self, by, value)\u001b[0m\n\u001b[0;32m    974\u001b[0m                 \u001b[0mby\u001b[0m \u001b[1;33m=\u001b[0m \u001b[0mBy\u001b[0m\u001b[1;33m.\u001b[0m\u001b[0mCSS_SELECTOR\u001b[0m\u001b[1;33m\u001b[0m\u001b[1;33m\u001b[0m\u001b[0m\n\u001b[0;32m    975\u001b[0m                 \u001b[0mvalue\u001b[0m \u001b[1;33m=\u001b[0m \u001b[1;34m'[name=\"%s\"]'\u001b[0m \u001b[1;33m%\u001b[0m \u001b[0mvalue\u001b[0m\u001b[1;33m\u001b[0m\u001b[1;33m\u001b[0m\u001b[0m\n\u001b[1;32m--> 976\u001b[1;33m         return self.execute(Command.FIND_ELEMENT, {\n\u001b[0m\u001b[0;32m    977\u001b[0m             \u001b[1;34m'using'\u001b[0m\u001b[1;33m:\u001b[0m \u001b[0mby\u001b[0m\u001b[1;33m,\u001b[0m\u001b[1;33m\u001b[0m\u001b[1;33m\u001b[0m\u001b[0m\n\u001b[0;32m    978\u001b[0m             'value': value})['value']\n",
      "\u001b[1;32m~\\Desktop\\data_projects\\capitalIQ_ccc_terry_10082021\\venv\\lib\\site-packages\\selenium\\webdriver\\remote\\webdriver.py\u001b[0m in \u001b[0;36mexecute\u001b[1;34m(self, driver_command, params)\u001b[0m\n\u001b[0;32m    319\u001b[0m         \u001b[0mresponse\u001b[0m \u001b[1;33m=\u001b[0m \u001b[0mself\u001b[0m\u001b[1;33m.\u001b[0m\u001b[0mcommand_executor\u001b[0m\u001b[1;33m.\u001b[0m\u001b[0mexecute\u001b[0m\u001b[1;33m(\u001b[0m\u001b[0mdriver_command\u001b[0m\u001b[1;33m,\u001b[0m \u001b[0mparams\u001b[0m\u001b[1;33m)\u001b[0m\u001b[1;33m\u001b[0m\u001b[1;33m\u001b[0m\u001b[0m\n\u001b[0;32m    320\u001b[0m         \u001b[1;32mif\u001b[0m \u001b[0mresponse\u001b[0m\u001b[1;33m:\u001b[0m\u001b[1;33m\u001b[0m\u001b[1;33m\u001b[0m\u001b[0m\n\u001b[1;32m--> 321\u001b[1;33m             \u001b[0mself\u001b[0m\u001b[1;33m.\u001b[0m\u001b[0merror_handler\u001b[0m\u001b[1;33m.\u001b[0m\u001b[0mcheck_response\u001b[0m\u001b[1;33m(\u001b[0m\u001b[0mresponse\u001b[0m\u001b[1;33m)\u001b[0m\u001b[1;33m\u001b[0m\u001b[1;33m\u001b[0m\u001b[0m\n\u001b[0m\u001b[0;32m    322\u001b[0m             response['value'] = self._unwrap_value(\n\u001b[0;32m    323\u001b[0m                 response.get('value', None))\n",
      "\u001b[1;32m~\\Desktop\\data_projects\\capitalIQ_ccc_terry_10082021\\venv\\lib\\site-packages\\selenium\\webdriver\\remote\\errorhandler.py\u001b[0m in \u001b[0;36mcheck_response\u001b[1;34m(self, response)\u001b[0m\n\u001b[0;32m    240\u001b[0m                 \u001b[0malert_text\u001b[0m \u001b[1;33m=\u001b[0m \u001b[0mvalue\u001b[0m\u001b[1;33m[\u001b[0m\u001b[1;34m'alert'\u001b[0m\u001b[1;33m]\u001b[0m\u001b[1;33m.\u001b[0m\u001b[0mget\u001b[0m\u001b[1;33m(\u001b[0m\u001b[1;34m'text'\u001b[0m\u001b[1;33m)\u001b[0m\u001b[1;33m\u001b[0m\u001b[1;33m\u001b[0m\u001b[0m\n\u001b[0;32m    241\u001b[0m             \u001b[1;32mraise\u001b[0m \u001b[0mexception_class\u001b[0m\u001b[1;33m(\u001b[0m\u001b[0mmessage\u001b[0m\u001b[1;33m,\u001b[0m \u001b[0mscreen\u001b[0m\u001b[1;33m,\u001b[0m \u001b[0mstacktrace\u001b[0m\u001b[1;33m,\u001b[0m \u001b[0malert_text\u001b[0m\u001b[1;33m)\u001b[0m\u001b[1;33m\u001b[0m\u001b[1;33m\u001b[0m\u001b[0m\n\u001b[1;32m--> 242\u001b[1;33m         \u001b[1;32mraise\u001b[0m \u001b[0mexception_class\u001b[0m\u001b[1;33m(\u001b[0m\u001b[0mmessage\u001b[0m\u001b[1;33m,\u001b[0m \u001b[0mscreen\u001b[0m\u001b[1;33m,\u001b[0m \u001b[0mstacktrace\u001b[0m\u001b[1;33m)\u001b[0m\u001b[1;33m\u001b[0m\u001b[1;33m\u001b[0m\u001b[0m\n\u001b[0m\u001b[0;32m    243\u001b[0m \u001b[1;33m\u001b[0m\u001b[0m\n\u001b[0;32m    244\u001b[0m     \u001b[1;32mdef\u001b[0m \u001b[0m_value_or_default\u001b[0m\u001b[1;33m(\u001b[0m\u001b[0mself\u001b[0m\u001b[1;33m,\u001b[0m \u001b[0mobj\u001b[0m\u001b[1;33m,\u001b[0m \u001b[0mkey\u001b[0m\u001b[1;33m,\u001b[0m \u001b[0mdefault\u001b[0m\u001b[1;33m)\u001b[0m\u001b[1;33m:\u001b[0m\u001b[1;33m\u001b[0m\u001b[1;33m\u001b[0m\u001b[0m\n",
      "\u001b[1;31mNoSuchElementException\u001b[0m: Message: no such element: Unable to locate element: {\"method\":\"css selector\",\"selector\":\"[id=\"excelReport\"]\"}\n  (Session info: chrome=94.0.4606.81)\n"
     ]
    }
   ],
   "source": [
    "for i, owner_history_url in enumerate(owner_history_urls):\n",
    "    if i == 0:\n",
    "        download_pub_owner_history(owner_history_url)\n",
    "    else:\n",
    "        time.sleep(15)\n",
    "        download_pub_owner_history(owner_history_url)"
   ]
  },
  {
   "cell_type": "markdown",
   "id": "906513c2",
   "metadata": {},
   "source": [
    "# Testing code"
   ]
  },
  {
   "cell_type": "code",
   "execution_count": null,
   "id": "cd768d2c",
   "metadata": {},
   "outputs": [],
   "source": []
  }
 ],
 "metadata": {
  "kernelspec": {
   "display_name": "Python 3 (ipykernel)",
   "language": "python",
   "name": "python3"
  },
  "language_info": {
   "codemirror_mode": {
    "name": "ipython",
    "version": 3
   },
   "file_extension": ".py",
   "mimetype": "text/x-python",
   "name": "python",
   "nbconvert_exporter": "python",
   "pygments_lexer": "ipython3",
   "version": "3.9.7"
  }
 },
 "nbformat": 4,
 "nbformat_minor": 5
}
